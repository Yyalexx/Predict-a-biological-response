{
 "cells": [
  {
   "cell_type": "code",
   "execution_count": 14,
   "metadata": {},
   "outputs": [],
   "source": [
    "#импорт библиотек\n",
    "import numpy as np #для матричных вычислений\n",
    "import pandas as pd #для анализа и предобработки данных\n",
    "import matplotlib.pyplot as plt #для визуализации\n",
    "import seaborn as sns #для визуализации\n",
    "\n",
    "from sklearn import linear_model #линейные моделиё\n",
    "from sklearn import tree #деревья решений\n",
    "from sklearn import ensemble #ансамбли\n",
    "from sklearn import metrics #метрики\n",
    "from sklearn import preprocessing #предобработка\n",
    "from sklearn import model_selection #методы разделения и валидации\n",
    "from sklearn.model_selection import train_test_split #сплитование выборки\n",
    "from sklearn.metrics import f1_score\n",
    "%matplotlib inline\n",
    "plt.style.use('seaborn')"
   ]
  },
  {
   "cell_type": "code",
   "execution_count": 15,
   "metadata": {},
   "outputs": [],
   "source": [
    "data = pd.read_csv('_train_sem09__1_.zip')"
   ]
  },
  {
   "cell_type": "code",
   "execution_count": 16,
   "metadata": {},
   "outputs": [
    {
     "data": {
      "text/html": [
       "<div>\n",
       "<style scoped>\n",
       "    .dataframe tbody tr th:only-of-type {\n",
       "        vertical-align: middle;\n",
       "    }\n",
       "\n",
       "    .dataframe tbody tr th {\n",
       "        vertical-align: top;\n",
       "    }\n",
       "\n",
       "    .dataframe thead th {\n",
       "        text-align: right;\n",
       "    }\n",
       "</style>\n",
       "<table border=\"1\" class=\"dataframe\">\n",
       "  <thead>\n",
       "    <tr style=\"text-align: right;\">\n",
       "      <th></th>\n",
       "      <th>Activity</th>\n",
       "      <th>D1</th>\n",
       "      <th>D2</th>\n",
       "      <th>D3</th>\n",
       "      <th>D4</th>\n",
       "      <th>D5</th>\n",
       "      <th>D6</th>\n",
       "      <th>D7</th>\n",
       "      <th>D8</th>\n",
       "      <th>D9</th>\n",
       "      <th>...</th>\n",
       "      <th>D1767</th>\n",
       "      <th>D1768</th>\n",
       "      <th>D1769</th>\n",
       "      <th>D1770</th>\n",
       "      <th>D1771</th>\n",
       "      <th>D1772</th>\n",
       "      <th>D1773</th>\n",
       "      <th>D1774</th>\n",
       "      <th>D1775</th>\n",
       "      <th>D1776</th>\n",
       "    </tr>\n",
       "  </thead>\n",
       "  <tbody>\n",
       "    <tr>\n",
       "      <th>0</th>\n",
       "      <td>1</td>\n",
       "      <td>0.000000</td>\n",
       "      <td>0.497009</td>\n",
       "      <td>0.10</td>\n",
       "      <td>0.0</td>\n",
       "      <td>0.132956</td>\n",
       "      <td>0.678031</td>\n",
       "      <td>0.273166</td>\n",
       "      <td>0.585445</td>\n",
       "      <td>0.743663</td>\n",
       "      <td>...</td>\n",
       "      <td>0</td>\n",
       "      <td>0</td>\n",
       "      <td>0</td>\n",
       "      <td>0</td>\n",
       "      <td>0</td>\n",
       "      <td>0</td>\n",
       "      <td>0</td>\n",
       "      <td>0</td>\n",
       "      <td>0</td>\n",
       "      <td>0</td>\n",
       "    </tr>\n",
       "    <tr>\n",
       "      <th>1</th>\n",
       "      <td>1</td>\n",
       "      <td>0.366667</td>\n",
       "      <td>0.606291</td>\n",
       "      <td>0.05</td>\n",
       "      <td>0.0</td>\n",
       "      <td>0.111209</td>\n",
       "      <td>0.803455</td>\n",
       "      <td>0.106105</td>\n",
       "      <td>0.411754</td>\n",
       "      <td>0.836582</td>\n",
       "      <td>...</td>\n",
       "      <td>1</td>\n",
       "      <td>1</td>\n",
       "      <td>1</td>\n",
       "      <td>1</td>\n",
       "      <td>0</td>\n",
       "      <td>1</td>\n",
       "      <td>0</td>\n",
       "      <td>0</td>\n",
       "      <td>1</td>\n",
       "      <td>0</td>\n",
       "    </tr>\n",
       "  </tbody>\n",
       "</table>\n",
       "<p>2 rows × 1777 columns</p>\n",
       "</div>"
      ],
      "text/plain": [
       "   Activity        D1        D2    D3   D4        D5        D6        D7  \\\n",
       "0         1  0.000000  0.497009  0.10  0.0  0.132956  0.678031  0.273166   \n",
       "1         1  0.366667  0.606291  0.05  0.0  0.111209  0.803455  0.106105   \n",
       "\n",
       "         D8        D9  ...  D1767  D1768  D1769  D1770  D1771  D1772  D1773  \\\n",
       "0  0.585445  0.743663  ...      0      0      0      0      0      0      0   \n",
       "1  0.411754  0.836582  ...      1      1      1      1      0      1      0   \n",
       "\n",
       "   D1774  D1775  D1776  \n",
       "0      0      0      0  \n",
       "1      0      1      0  \n",
       "\n",
       "[2 rows x 1777 columns]"
      ]
     },
     "execution_count": 16,
     "metadata": {},
     "output_type": "execute_result"
    }
   ],
   "source": [
    "data.head(2)"
   ]
  },
  {
   "cell_type": "markdown",
   "metadata": {},
   "source": [
    "Проверяем выборку на дисбаланс"
   ]
  },
  {
   "cell_type": "code",
   "execution_count": 17,
   "metadata": {},
   "outputs": [
    {
     "name": "stdout",
     "output_type": "stream",
     "text": [
      "Activity is 0: 45.77%\n",
      "Activity is 1: 54.23%\n"
     ]
    },
    {
     "data": {
      "image/png": "[encoded data removed]",
      "text/plain": [
       "<Figure size 576x396 with 1 Axes>"
      ]
     },
     "metadata": {},
     "output_type": "display_data"
    }
   ],
   "source": [
    "sns.countplot(data=data, x='Activity', palette='CMRmap')\n",
    "activity_percent = data['Activity'].value_counts(normalize=True) * 100\n",
    "print('Activity is 0: {:.2f}%'.format(activity_percent[0]))\n",
    "print('Activity is 1: {:.2f}%'.format(activity_percent[1]))"
   ]
  },
  {
   "cell_type": "markdown",
   "metadata": {},
   "source": [
    "Выборку можно считать сбалансированной.  \n",
    "Разделим выборку на тренировочную и тестовую в соотношении 80/20."
   ]
  },
  {
   "cell_type": "code",
   "execution_count": 18,
   "metadata": {},
   "outputs": [],
   "source": [
    "X, y = data.drop('Activity', axis=1), data['Activity']\n",
    "X_train, X_test, y_train, y_test = model_selection.train_test_split(X, y, stratify=y, test_size=0.2, random_state=42)"
   ]
  },
  {
   "cell_type": "markdown",
   "metadata": {},
   "source": [
    "# Оптимизация гиперпараметров модели"
   ]
  },
  {
   "cell_type": "markdown",
   "metadata": {},
   "source": [
    "### **Логистическая регрессия**"
   ]
  },
  {
   "cell_type": "markdown",
   "metadata": {},
   "source": [
    "Зафиксируем метрику F1-score, полученную без дополнительной настройки, т.е со значениями гиперпараметров, установленных по умолчанию:"
   ]
  },
  {
   "cell_type": "code",
   "execution_count": 19,
   "metadata": {},
   "outputs": [
    {
     "name": "stdout",
     "output_type": "stream",
     "text": [
      "f1_score на тестовом наборе: 0.78\n"
     ]
    },
    {
     "name": "stderr",
     "output_type": "stream",
     "text": [
      "c:\\Users\\Rui\\AppData\\Local\\Programs\\Python\\Python39\\lib\\site-packages\\sklearn\\linear_model\\_logistic.py:444: ConvergenceWarning: lbfgs failed to converge (status=1):\n",
      "STOP: TOTAL NO. of ITERATIONS REACHED LIMIT.\n",
      "\n",
      "Increase the number of iterations (max_iter) or scale the data as shown in:\n",
      "    https://scikit-learn.org/stable/modules/preprocessing.html\n",
      "Please also refer to the documentation for alternative solver options:\n",
      "    https://scikit-learn.org/stable/modules/linear_model.html#logistic-regression\n",
      "  n_iter_i = _check_optimize_result(\n"
     ]
    }
   ],
   "source": [
    "#Создаем объект класса логистическая регрессия\n",
    "log_reg = linear_model.LogisticRegression(random_state=42, max_iter=50)\n",
    "#Обучаем модель, минимизируя logloss\n",
    "log_reg.fit(X_train, y_train)\n",
    "y_test_pred = log_reg.predict(X_test)\n",
    "print('f1_score на тестовом наборе: {:.2f}'.format(metrics.f1_score(y_test, y_test_pred)))"
   ]
  },
  {
   "cell_type": "markdown",
   "metadata": {},
   "source": [
    "### <center> **GridSearchCV**"
   ]
  },
  {
   "cell_type": "markdown",
   "metadata": {},
   "source": [
    "Пробуем подобрать оптимальные параметры с помощью поиска по сетке"
   ]
  },
  {
   "cell_type": "code",
   "execution_count": 20,
   "metadata": {},
   "outputs": [
    {
     "name": "stdout",
     "output_type": "stream",
     "text": [
      "CPU times: total: 3.42 s\n",
      "Wall time: 53.5 s\n",
      "f1_score на тестовом наборе: 0.78\n",
      "Наилучшие значения гиперпараметров: {'C': 0.35, 'penalty': 'l1', 'solver': 'saga'}\n"
     ]
    },
    {
     "name": "stderr",
     "output_type": "stream",
     "text": [
      "c:\\Users\\Rui\\AppData\\Local\\Programs\\Python\\Python39\\lib\\site-packages\\sklearn\\linear_model\\_sag.py:350: ConvergenceWarning: The max_iter was reached which means the coef_ did not converge\n",
      "  warnings.warn(\n"
     ]
    }
   ],
   "source": [
    "from sklearn.model_selection import GridSearchCV\n",
    "\n",
    "param_grid = [{'penalty': ['l1', 'l2', 'none'] , # тип регуляризации\n",
    "              'solver': ['saga'], # алгоритм оптимизации\n",
    "               'C': [0.01, 0.35, 0.7, 1]}, # уровень силы регуляризации\n",
    "                {'penalty': ['l2', 'none'] ,\n",
    "              'solver': ['lbfgs', 'sag'], \n",
    "               'C': [0.01, 0.35, 0.7, 1]}, \n",
    "               {'penalty': ['l1', 'l2'] ,\n",
    "              'solver': ['liblinear'], \n",
    "               'C': [0.01, 0.35, 0.7, 1]}\n",
    "             ]\n",
    "\n",
    "grid_search_1 = GridSearchCV(\n",
    "    estimator=log_reg, \n",
    "    param_grid=param_grid,\n",
    "    scoring = 'f1', \n",
    "    cv=5, \n",
    "    n_jobs = -1\n",
    ")  \n",
    "%time grid_search_1.fit(X_train, y_train) \n",
    "y_test_pred = grid_search_1.predict(X_test)\n",
    "print('f1_score на тестовом наборе: {:.2f}'.format(metrics.f1_score(y_test, y_test_pred)))\n",
    "print(\"Наилучшие значения гиперпараметров: {}\".format(grid_search_1.best_params_))"
   ]
  },
  {
   "cell_type": "code",
   "execution_count": 21,
   "metadata": {},
   "outputs": [
    {
     "data": {
      "text/html": [
       "<div>\n",
       "<style scoped>\n",
       "    .dataframe tbody tr th:only-of-type {\n",
       "        vertical-align: middle;\n",
       "    }\n",
       "\n",
       "    .dataframe tbody tr th {\n",
       "        vertical-align: top;\n",
       "    }\n",
       "\n",
       "    .dataframe thead th {\n",
       "        text-align: right;\n",
       "    }\n",
       "</style>\n",
       "<table border=\"1\" class=\"dataframe\">\n",
       "  <thead>\n",
       "    <tr style=\"text-align: right;\">\n",
       "      <th></th>\n",
       "      <th>mean_fit_time</th>\n",
       "      <th>std_fit_time</th>\n",
       "      <th>mean_score_time</th>\n",
       "      <th>std_score_time</th>\n",
       "      <th>param_C</th>\n",
       "      <th>param_penalty</th>\n",
       "      <th>param_solver</th>\n",
       "      <th>params</th>\n",
       "      <th>split0_test_score</th>\n",
       "      <th>split1_test_score</th>\n",
       "      <th>split2_test_score</th>\n",
       "      <th>split3_test_score</th>\n",
       "      <th>split4_test_score</th>\n",
       "      <th>mean_test_score</th>\n",
       "      <th>std_test_score</th>\n",
       "      <th>rank_test_score</th>\n",
       "    </tr>\n",
       "  </thead>\n",
       "  <tbody>\n",
       "    <tr>\n",
       "      <th>0</th>\n",
       "      <td>1.566247</td>\n",
       "      <td>0.230019</td>\n",
       "      <td>0.020557</td>\n",
       "      <td>0.001625</td>\n",
       "      <td>0.01</td>\n",
       "      <td>l1</td>\n",
       "      <td>saga</td>\n",
       "      <td>{'C': 0.01, 'penalty': 'l1', 'solver': 'saga'}</td>\n",
       "      <td>0.774691</td>\n",
       "      <td>0.773885</td>\n",
       "      <td>0.756672</td>\n",
       "      <td>0.745710</td>\n",
       "      <td>0.737679</td>\n",
       "      <td>0.757727</td>\n",
       "      <td>0.014808</td>\n",
       "      <td>31</td>\n",
       "    </tr>\n",
       "    <tr>\n",
       "      <th>1</th>\n",
       "      <td>3.207741</td>\n",
       "      <td>0.084760</td>\n",
       "      <td>0.020197</td>\n",
       "      <td>0.002444</td>\n",
       "      <td>0.01</td>\n",
       "      <td>l2</td>\n",
       "      <td>saga</td>\n",
       "      <td>{'C': 0.01, 'penalty': 'l2', 'solver': 'saga'}</td>\n",
       "      <td>0.815362</td>\n",
       "      <td>0.791988</td>\n",
       "      <td>0.769006</td>\n",
       "      <td>0.791728</td>\n",
       "      <td>0.765766</td>\n",
       "      <td>0.786770</td>\n",
       "      <td>0.018034</td>\n",
       "      <td>5</td>\n",
       "    </tr>\n",
       "  </tbody>\n",
       "</table>\n",
       "</div>"
      ],
      "text/plain": [
       "   mean_fit_time  std_fit_time  mean_score_time  std_score_time param_C  \\\n",
       "0       1.566247      0.230019         0.020557        0.001625    0.01   \n",
       "1       3.207741      0.084760         0.020197        0.002444    0.01   \n",
       "\n",
       "  param_penalty param_solver                                          params  \\\n",
       "0            l1         saga  {'C': 0.01, 'penalty': 'l1', 'solver': 'saga'}   \n",
       "1            l2         saga  {'C': 0.01, 'penalty': 'l2', 'solver': 'saga'}   \n",
       "\n",
       "   split0_test_score  split1_test_score  split2_test_score  split3_test_score  \\\n",
       "0           0.774691           0.773885           0.756672           0.745710   \n",
       "1           0.815362           0.791988           0.769006           0.791728   \n",
       "\n",
       "   split4_test_score  mean_test_score  std_test_score  rank_test_score  \n",
       "0           0.737679         0.757727        0.014808               31  \n",
       "1           0.765766         0.786770        0.018034                5  "
      ]
     },
     "execution_count": 21,
     "metadata": {},
     "output_type": "execute_result"
    }
   ],
   "source": [
    "# Результаты кросс-валидации\n",
    "result_cv = pd.DataFrame(grid_search_1.cv_results_)\n",
    "result_cv.head(2)"
   ]
  },
  {
   "cell_type": "code",
   "execution_count": 22,
   "metadata": {},
   "outputs": [
    {
     "data": {
      "text/plain": [
       "Index(['mean_fit_time', 'std_fit_time', 'mean_score_time', 'std_score_time',\n",
       "       'param_C', 'param_penalty', 'param_solver', 'params',\n",
       "       'split0_test_score', 'split1_test_score', 'split2_test_score',\n",
       "       'split3_test_score', 'split4_test_score', 'mean_test_score',\n",
       "       'std_test_score', 'rank_test_score'],\n",
       "      dtype='object')"
      ]
     },
     "execution_count": 22,
     "metadata": {},
     "output_type": "execute_result"
    }
   ],
   "source": [
    "result_cv.columns"
   ]
  },
  {
   "cell_type": "code",
   "execution_count": 23,
   "metadata": {},
   "outputs": [
    {
     "data": {
      "image/png": "[encoded data removed]",
      "text/plain": [
       "<Figure size 576x396 with 2 Axes>"
      ]
     },
     "metadata": {},
     "output_type": "display_data"
    }
   ],
   "source": [
    "# Отрисуем, как менялась точность при различных гиперпараметрах\n",
    "visual = pd.pivot_table(pd.DataFrame(grid_search_1.cv_results_),\n",
    "                        values='mean_test_score', index='param_C',\n",
    "                        columns=['param_penalty', 'param_solver'])\n",
    "sns.heatmap(visual)\n",
    "plt.title('Тепловая карта зависимости метрики f1 от solver, penalty и С') # подпись графика\n",
    "sns.set(rc={'figure.figsize':(12, 8)}) #задаем размер графика"
   ]
  },
  {
   "cell_type": "markdown",
   "metadata": {},
   "source": [
    "Изучим область предполагаемого максимума метрики подробнее с помощью новой сетки."
   ]
  },
  {
   "cell_type": "code",
   "execution_count": 24,
   "metadata": {},
   "outputs": [
    {
     "name": "stdout",
     "output_type": "stream",
     "text": [
      "CPU times: total: 3.09 s\n",
      "Wall time: 32.9 s\n",
      "f1_score на тестовом наборе: 0.78\n",
      "Наилучшие значения гиперпараметров: {'C': 0.2, 'penalty': 'l1', 'solver': 'saga'}\n"
     ]
    },
    {
     "name": "stderr",
     "output_type": "stream",
     "text": [
      "c:\\Users\\Rui\\AppData\\Local\\Programs\\Python\\Python39\\lib\\site-packages\\sklearn\\linear_model\\_sag.py:350: ConvergenceWarning: The max_iter was reached which means the coef_ did not converge\n",
      "  warnings.warn(\n"
     ]
    }
   ],
   "source": [
    "param_grid = {'penalty': ['l1'] , # тип регуляризации\n",
    "              'solver': ['saga', 'liblinear'], # алгоритм оптимизации\n",
    "               'C': [0.1, 0.2, 0.25, 0.3, 0.35, 0.4, 0.45, 0.5]}, # уровень силы регуляризации\n",
    "grid_search_2 = GridSearchCV(\n",
    "    estimator=log_reg, \n",
    "    param_grid=param_grid,\n",
    "    scoring = 'f1', \n",
    "    cv=5, \n",
    "    n_jobs = -1\n",
    ")  \n",
    "%time grid_search_2.fit(X_train, y_train) \n",
    "y_test_pred = grid_search_2.predict(X_test)\n",
    "print('f1_score на тестовом наборе: {:.2f}'.format(metrics.f1_score(y_test, y_test_pred)))\n",
    "print(\"Наилучшие значения гиперпараметров: {}\".format(grid_search_2.best_params_))                "
   ]
  },
  {
   "cell_type": "code",
   "execution_count": 25,
   "metadata": {},
   "outputs": [
    {
     "data": {
      "text/html": [
       "<div>\n",
       "<style scoped>\n",
       "    .dataframe tbody tr th:only-of-type {\n",
       "        vertical-align: middle;\n",
       "    }\n",
       "\n",
       "    .dataframe tbody tr th {\n",
       "        vertical-align: top;\n",
       "    }\n",
       "\n",
       "    .dataframe thead th {\n",
       "        text-align: right;\n",
       "    }\n",
       "</style>\n",
       "<table border=\"1\" class=\"dataframe\">\n",
       "  <thead>\n",
       "    <tr style=\"text-align: right;\">\n",
       "      <th></th>\n",
       "      <th>mean_fit_time</th>\n",
       "      <th>std_fit_time</th>\n",
       "      <th>mean_score_time</th>\n",
       "      <th>std_score_time</th>\n",
       "      <th>param_C</th>\n",
       "      <th>param_penalty</th>\n",
       "      <th>param_solver</th>\n",
       "      <th>params</th>\n",
       "      <th>split0_test_score</th>\n",
       "      <th>split1_test_score</th>\n",
       "      <th>split2_test_score</th>\n",
       "      <th>split3_test_score</th>\n",
       "      <th>split4_test_score</th>\n",
       "      <th>mean_test_score</th>\n",
       "      <th>std_test_score</th>\n",
       "      <th>rank_test_score</th>\n",
       "    </tr>\n",
       "  </thead>\n",
       "  <tbody>\n",
       "    <tr>\n",
       "      <th>0</th>\n",
       "      <td>5.046076</td>\n",
       "      <td>0.015036</td>\n",
       "      <td>0.026692</td>\n",
       "      <td>0.001697</td>\n",
       "      <td>0.1</td>\n",
       "      <td>l1</td>\n",
       "      <td>saga</td>\n",
       "      <td>{'C': 0.1, 'penalty': 'l1', 'solver': 'saga'}</td>\n",
       "      <td>0.807692</td>\n",
       "      <td>0.799392</td>\n",
       "      <td>0.78056</td>\n",
       "      <td>0.772660</td>\n",
       "      <td>0.766412</td>\n",
       "      <td>0.785343</td>\n",
       "      <td>0.015742</td>\n",
       "      <td>15</td>\n",
       "    </tr>\n",
       "    <tr>\n",
       "      <th>1</th>\n",
       "      <td>0.270175</td>\n",
       "      <td>0.020592</td>\n",
       "      <td>0.025792</td>\n",
       "      <td>0.002671</td>\n",
       "      <td>0.1</td>\n",
       "      <td>l1</td>\n",
       "      <td>liblinear</td>\n",
       "      <td>{'C': 0.1, 'penalty': 'l1', 'solver': 'libline...</td>\n",
       "      <td>0.807122</td>\n",
       "      <td>0.804249</td>\n",
       "      <td>0.77037</td>\n",
       "      <td>0.773333</td>\n",
       "      <td>0.766412</td>\n",
       "      <td>0.784297</td>\n",
       "      <td>0.017624</td>\n",
       "      <td>16</td>\n",
       "    </tr>\n",
       "  </tbody>\n",
       "</table>\n",
       "</div>"
      ],
      "text/plain": [
       "   mean_fit_time  std_fit_time  mean_score_time  std_score_time param_C  \\\n",
       "0       5.046076      0.015036         0.026692        0.001697     0.1   \n",
       "1       0.270175      0.020592         0.025792        0.002671     0.1   \n",
       "\n",
       "  param_penalty param_solver  \\\n",
       "0            l1         saga   \n",
       "1            l1    liblinear   \n",
       "\n",
       "                                              params  split0_test_score  \\\n",
       "0      {'C': 0.1, 'penalty': 'l1', 'solver': 'saga'}           0.807692   \n",
       "1  {'C': 0.1, 'penalty': 'l1', 'solver': 'libline...           0.807122   \n",
       "\n",
       "   split1_test_score  split2_test_score  split3_test_score  split4_test_score  \\\n",
       "0           0.799392            0.78056           0.772660           0.766412   \n",
       "1           0.804249            0.77037           0.773333           0.766412   \n",
       "\n",
       "   mean_test_score  std_test_score  rank_test_score  \n",
       "0         0.785343        0.015742               15  \n",
       "1         0.784297        0.017624               16  "
      ]
     },
     "execution_count": 25,
     "metadata": {},
     "output_type": "execute_result"
    }
   ],
   "source": [
    "# Результаты кросс-валидации\n",
    "result_cv = pd.DataFrame(grid_search_2.cv_results_)\n",
    "result_cv.head(2)"
   ]
  },
  {
   "cell_type": "code",
   "execution_count": 26,
   "metadata": {},
   "outputs": [
    {
     "data": {
      "image/png": "[encoded data removed]",
      "text/plain": [
       "<Figure size 864x576 with 2 Axes>"
      ]
     },
     "metadata": {},
     "output_type": "display_data"
    }
   ],
   "source": [
    "# Отрисуем, как менялась точность при различных гиперпараметрах\n",
    "visual = pd.pivot_table(pd.DataFrame(grid_search_2.cv_results_),\n",
    "                        values='mean_test_score', index='param_C',\n",
    "                        columns=['param_penalty', 'param_solver'])\n",
    "sns.heatmap(visual)\n",
    "plt.title('Тепловая карта зависимости метрики f1 от solver, penalty и С') # подпись графика\n",
    "sns.set(rc={'figure.figsize':(12, 8)}) #задаем размер графика"
   ]
  },
  {
   "cell_type": "markdown",
   "metadata": {},
   "source": [
    "Значения метрики f1_score на тестовом наборе не изменились, комбинация внешних параметров лучше, чем заданы по умолчанию не найдена."
   ]
  },
  {
   "cell_type": "markdown",
   "metadata": {},
   "source": [
    "### <center> **RandomizedSearchCV**"
   ]
  },
  {
   "cell_type": "markdown",
   "metadata": {},
   "source": [
    "Проведем поиск оптимальных параметров среди тех же значений, что и для GridSearchCV. Количество итераций выберем равным числу комбинаций параметров для GridSearchCV. Значительного выигрыша по времени не ожидается, но можно не использовать повторный поиск с более мелкой сеткой."
   ]
  },
  {
   "cell_type": "code",
   "execution_count": 27,
   "metadata": {},
   "outputs": [
    {
     "name": "stdout",
     "output_type": "stream",
     "text": [
      "CPU times: total: 766 ms\n",
      "Wall time: 59.7 s\n",
      "f1_score на тестовом наборе: 0.78\n",
      "Наилучшие значения гиперпараметров: {'solver': 'liblinear', 'penalty': 'l1', 'C': 0.34}\n"
     ]
    }
   ],
   "source": [
    "from sklearn.model_selection import RandomizedSearchCV\n",
    "\n",
    "param_distributions = [{'penalty': ['l1', 'l2', 'none'] , \n",
    "              'solver': ['saga'], \n",
    "               'C': list(np.linspace(0.01, 1, 10, dtype=float))}, \n",
    "                {'penalty': ['l2', 'none'] ,\n",
    "              'solver': ['lbfgs', 'sag'], \n",
    "               'C': list(np.linspace(0.01, 1, 10, dtype=float))}, \n",
    "               {'penalty': ['l1', 'l2'] ,\n",
    "              'solver': ['liblinear'],\n",
    "               'C': list(np.linspace(0.01, 1, 10, dtype=float))}]\n",
    "            \n",
    "random_search = RandomizedSearchCV(\n",
    "    estimator=log_reg, \n",
    "    param_distributions=param_distributions,\n",
    "    scoring = 'f1', \n",
    "    cv=5, \n",
    "    n_iter = 36, \n",
    "    n_jobs = -1\n",
    ")  \n",
    "%time random_search.fit(X_train, y_train) \n",
    "y_test_pred = random_search.predict(X_test)\n",
    "print('f1_score на тестовом наборе: {:.2f}'.format(metrics.f1_score(y_test, y_test_pred)))\n",
    "print(\"Наилучшие значения гиперпараметров: {}\".format(random_search.best_params_))"
   ]
  },
  {
   "cell_type": "markdown",
   "metadata": {},
   "source": [
    "Метрику f1_score на тестовом наборе улучшить не удалось."
   ]
  },
  {
   "cell_type": "markdown",
   "metadata": {},
   "source": [
    "### <center> **Hyperopt**"
   ]
  },
  {
   "cell_type": "code",
   "execution_count": 28,
   "metadata": {},
   "outputs": [],
   "source": [
    "from sklearn.model_selection import cross_val_score\n",
    "import hyperopt\n",
    "from hyperopt import hp, fmin, tpe, Trials\n",
    "# fmin - основная функция, она будет минимизировать наш функционал\n",
    "# tpe - алгоритм оптимизации\n",
    "# hp - включает набор методов для объявления пространства поиска гиперпараметров\n",
    "# trails - используется для логирования результатов"
   ]
  },
  {
   "cell_type": "markdown",
   "metadata": {},
   "source": [
    "Настроим оптимизацию гиперпараметров для алгоритма логистической регрессии."
   ]
  },
  {
   "cell_type": "code",
   "execution_count": 29,
   "metadata": {},
   "outputs": [],
   "source": [
    "# зададим пространство поиска гиперпараметров\n",
    "\n",
    "space = hp.choice('parameter_combinations', [\n",
    "        {'solver': 'saga',\n",
    "         'penalty': 'l1',\n",
    "         'C': hp.uniform('C_saga_l1', 0.01, 1)\n",
    "        },\n",
    "        {'solver': 'saga',\n",
    "         'penalty': 'l2',\n",
    "         'C': hp.uniform('C_saga_l2', 0.01, 1)\n",
    "        }, \n",
    "        {'solver': 'saga',\n",
    "         'penalty': 'none',\n",
    "         'C': hp.uniform('C_saga_none', 0.01, 1)\n",
    "        }, \n",
    "         \n",
    "         \n",
    "        \n",
    "        {'solver': 'lbfgs',\n",
    "         'penalty':'l2',\n",
    "         'C': hp.uniform('C_lbfgs_l2', 0.01, 1)\n",
    "        },\n",
    "        {'solver':'lbfgs',\n",
    "         'penalty': 'none',\n",
    "         'C': hp.uniform('C_lbfgs_none', 0.01, 1)\n",
    "        },\n",
    "        \n",
    "        \n",
    "        {'solver':'sag',\n",
    "         'penalty': 'l2',\n",
    "         'C': hp.uniform('C_sag_l2', 0.01, 1)\n",
    "        },\n",
    "        {'solver': 'sag',\n",
    "         'penalty': 'none',\n",
    "         'C': hp.uniform('C_sag_none', 0.01, 1)\n",
    "        },\n",
    "        \n",
    "        \n",
    "        {'solver': 'liblinear',\n",
    "        'penalty': 'l1',\n",
    "        'C': hp.uniform('C_liblinear_l1', 0.01, 1)\n",
    "        },\n",
    "        {'solver': 'liblinear',\n",
    "        'penalty': 'l2',\n",
    "        'C': hp.uniform('C_liblinear_l2', 0.01, 1)\n",
    "        },\n",
    "        ]\n",
    ")"
   ]
  },
  {
   "cell_type": "code",
   "execution_count": 30,
   "metadata": {},
   "outputs": [],
   "source": [
    "random_state = 42\n",
    "\n",
    "def hyperopt_lr(params, cv=5, X=X_train, y=y_train, random_state=random_state):\n",
    "    params = {'solver': params['solver'], \n",
    "              'penalty': params['penalty'], \n",
    "              'C': params['C']\n",
    "             }\n",
    "      \n",
    "    model = linear_model.LogisticRegression(**params, random_state=random_state, max_iter=50)\n",
    "\n",
    "    # Обучаем модель с помощью кросс-валидации\n",
    "    score = cross_val_score(model, X, y, cv=cv, scoring='f1', n_jobs=-1).mean()\n",
    "\n",
    "    return -score"
   ]
  },
  {
   "cell_type": "code",
   "execution_count": 31,
   "metadata": {},
   "outputs": [
    {
     "name": "stdout",
     "output_type": "stream",
     "text": [
      "CPU times: total: 0 ns\n",
      "Wall time: 0 ns\n",
      "100%|██████████| 20/20 [00:55<00:00,  2.79s/trial, best loss: -0.787628046912189]\n",
      "Наилучшие значения гиперпараметров {'C_saga_l2': 0.08292441519601887, 'parameter_combinations': 1}\n"
     ]
    }
   ],
   "source": [
    "# начинаем подбор гиперпараметров\n",
    "%time \n",
    " \n",
    "trials = Trials() # используется для логирования результатов\n",
    "\n",
    "best=fmin(hyperopt_lr, # наша функция \n",
    "          space=space, # пространство гиперпараметров\n",
    "          algo=tpe.suggest, # алгоритм оптимизации, установлен по умолчанию, задавать необязательно\n",
    "          max_evals=20, # максимальное количество итераций\n",
    "          trials=trials, # логирование результатов\n",
    "          rstate=np.random.default_rng(random_state)# фиксируем для повторяемости результата\n",
    "          )\n",
    "print(\"Наилучшие значения гиперпараметров {}\".format(best))"
   ]
  },
  {
   "cell_type": "code",
   "execution_count": 32,
   "metadata": {},
   "outputs": [
    {
     "name": "stdout",
     "output_type": "stream",
     "text": [
      "f1_score на обучающем наборе: 0.85\n",
      "f1_score на тестовом наборе: 0.79\n"
     ]
    },
    {
     "name": "stderr",
     "output_type": "stream",
     "text": [
      "c:\\Users\\Rui\\AppData\\Local\\Programs\\Python\\Python39\\lib\\site-packages\\sklearn\\linear_model\\_sag.py:350: ConvergenceWarning: The max_iter was reached which means the coef_ did not converge\n",
      "  warnings.warn(\n"
     ]
    }
   ],
   "source": [
    "# рассчитаем точность для тестовой выборки\n",
    "model_HO_best = linear_model.LogisticRegression(\n",
    "    solver = 'saga', \n",
    "    penalty = 'l2',\n",
    "    C = 0.08292441519601887,\n",
    "    random_state=random_state, \n",
    "    max_iter=50\n",
    "    )\n",
    "model_HO_best.fit(X_train, y_train)\n",
    "y_train_pred = model_HO_best.predict(X_train)\n",
    "print('f1_score на обучающем наборе: {:.2f}'.format(metrics.f1_score(y_train, y_train_pred)))\n",
    "y_test_pred = model_HO_best.predict(X_test)\n",
    "print('f1_score на тестовом наборе: {:.2f}'.format(metrics.f1_score(y_test, y_test_pred)))"
   ]
  },
  {
   "cell_type": "markdown",
   "metadata": {},
   "source": [
    "С помощью Hyperopt метрику f1_score на тестовом наборе удалось улучшить."
   ]
  },
  {
   "cell_type": "markdown",
   "metadata": {},
   "source": [
    "### <center> Optuna"
   ]
  },
  {
   "cell_type": "code",
   "execution_count": 33,
   "metadata": {},
   "outputs": [],
   "source": [
    "import optuna"
   ]
  },
  {
   "cell_type": "code",
   "execution_count": 34,
   "metadata": {},
   "outputs": [],
   "source": [
    "random_state = 42\n",
    "\n",
    "def optuna_lr(trial):\n",
    "    # пространство гиперпараметров\n",
    "    solver = trial.suggest_categorical('solver', ['saga', 'lbfgs', 'sag', 'liblinear'])\n",
    "    if solver == 'saga':\n",
    "        penalty = trial.suggest_categorical('penalty', ['l1', 'l2', 'none'])\n",
    "    else:\n",
    "        penalty = 'l2'\n",
    "        \n",
    "    C = trial.suggest_uniform('C', 0.01, 1)\n",
    "    \n",
    "    model = linear_model.LogisticRegression(\n",
    "        solver=solver,\n",
    "        penalty=penalty,\n",
    "        C=C,\n",
    "        random_state=random_state, \n",
    "        max_iter=50\n",
    "    )    \n",
    "    \n",
    "    # Обучаем модель с помощью кросс-валидации    \n",
    "    score = cross_val_score(\n",
    "        model, X_train, y_train, cv=5, scoring='f1', n_jobs=-1).mean()\n",
    "    \n",
    "    return score"
   ]
  },
  {
   "cell_type": "code",
   "execution_count": 35,
   "metadata": {},
   "outputs": [
    {
     "name": "stderr",
     "output_type": "stream",
     "text": [
      "\u001b[32m[I 2022-08-26 16:19:12,948]\u001b[0m A new study created in memory with name: LogisticRegression\u001b[0m\n",
      "\u001b[32m[I 2022-08-26 16:19:14,064]\u001b[0m Trial 0 finished with value: 0.7834178997770478 and parameters: {'solver': 'lbfgs', 'C': 0.16445845403801215}. Best is trial 0 with value: 0.7834178997770478.\u001b[0m\n",
      "\u001b[32m[I 2022-08-26 16:19:17,170]\u001b[0m Trial 1 finished with value: 0.7793051656527762 and parameters: {'solver': 'sag', 'C': 0.710991852018085}. Best is trial 0 with value: 0.7834178997770478.\u001b[0m\n",
      "\u001b[32m[I 2022-08-26 16:19:18,381]\u001b[0m Trial 2 finished with value: 0.7814287466066778 and parameters: {'solver': 'lbfgs', 'C': 0.19000671753502962}. Best is trial 0 with value: 0.7834178997770478.\u001b[0m\n",
      "\u001b[32m[I 2022-08-26 16:19:21,697]\u001b[0m Trial 3 finished with value: 0.7784773740869497 and parameters: {'solver': 'sag', 'C': 0.2983168487960615}. Best is trial 0 with value: 0.7834178997770478.\u001b[0m\n",
      "\u001b[32m[I 2022-08-26 16:19:25,567]\u001b[0m Trial 4 finished with value: 0.7796530883762236 and parameters: {'solver': 'saga', 'penalty': 'l2', 'C': 0.5190920940294755}. Best is trial 0 with value: 0.7834178997770478.\u001b[0m\n",
      "\u001b[32m[I 2022-08-26 16:19:29,193]\u001b[0m Trial 5 finished with value: 0.7886791388489908 and parameters: {'solver': 'sag', 'C': 0.07440107705542671}. Best is trial 5 with value: 0.7886791388489908.\u001b[0m\n",
      "\u001b[32m[I 2022-08-26 16:19:30,461]\u001b[0m Trial 6 finished with value: 0.7854048992368717 and parameters: {'solver': 'lbfgs', 'C': 0.10669539286632003}. Best is trial 5 with value: 0.7886791388489908.\u001b[0m\n",
      "\u001b[32m[I 2022-08-26 16:19:34,294]\u001b[0m Trial 7 finished with value: 0.7791666903993274 and parameters: {'solver': 'saga', 'penalty': 'l2', 'C': 0.6658970615104421}. Best is trial 5 with value: 0.7886791388489908.\u001b[0m\n",
      "\u001b[32m[I 2022-08-26 16:19:37,910]\u001b[0m Trial 8 finished with value: 0.7795521582233507 and parameters: {'solver': 'sag', 'C': 0.9698887814869129}. Best is trial 5 with value: 0.7886791388489908.\u001b[0m\n",
      "\u001b[32m[I 2022-08-26 16:19:39,030]\u001b[0m Trial 9 finished with value: 0.7713060285701678 and parameters: {'solver': 'lbfgs', 'C': 0.9226554926728857}. Best is trial 5 with value: 0.7886791388489908.\u001b[0m\n",
      "\u001b[32m[I 2022-08-26 16:19:39,790]\u001b[0m Trial 10 finished with value: 0.790609157811635 and parameters: {'solver': 'liblinear', 'C': 0.015937211126258566}. Best is trial 10 with value: 0.790609157811635.\u001b[0m\n",
      "\u001b[32m[I 2022-08-26 16:19:40,555]\u001b[0m Trial 11 finished with value: 0.7908379790380127 and parameters: {'solver': 'liblinear', 'C': 0.015244149605851878}. Best is trial 11 with value: 0.7908379790380127.\u001b[0m\n",
      "\u001b[32m[I 2022-08-26 16:19:41,451]\u001b[0m Trial 12 finished with value: 0.7772516768896305 and parameters: {'solver': 'liblinear', 'C': 0.35042886867188444}. Best is trial 11 with value: 0.7908379790380127.\u001b[0m\n",
      "\u001b[32m[I 2022-08-26 16:19:42,117]\u001b[0m Trial 13 finished with value: 0.7911749231867716 and parameters: {'solver': 'liblinear', 'C': 0.020783734592852925}. Best is trial 13 with value: 0.7911749231867716.\u001b[0m\n",
      "\u001b[32m[I 2022-08-26 16:19:43,107]\u001b[0m Trial 14 finished with value: 0.7773860802149837 and parameters: {'solver': 'liblinear', 'C': 0.341353575497707}. Best is trial 13 with value: 0.7911749231867716.\u001b[0m\n",
      "\u001b[32m[I 2022-08-26 16:19:43,992]\u001b[0m Trial 15 finished with value: 0.7791966528547652 and parameters: {'solver': 'liblinear', 'C': 0.2531652323662312}. Best is trial 13 with value: 0.7911749231867716.\u001b[0m\n",
      "\u001b[32m[I 2022-08-26 16:19:45,037]\u001b[0m Trial 16 finished with value: 0.7786966068976742 and parameters: {'solver': 'liblinear', 'C': 0.4400127090388472}. Best is trial 13 with value: 0.7911749231867716.\u001b[0m\n",
      "\u001b[32m[I 2022-08-26 16:19:45,799]\u001b[0m Trial 17 finished with value: 0.7925778470843667 and parameters: {'solver': 'liblinear', 'C': 0.029834922551910417}. Best is trial 17 with value: 0.7925778470843667.\u001b[0m\n",
      "\u001b[32m[I 2022-08-26 16:19:46,789]\u001b[0m Trial 18 finished with value: 0.7813216668290741 and parameters: {'solver': 'liblinear', 'C': 0.5334038771422205}. Best is trial 17 with value: 0.7925778470843667.\u001b[0m\n",
      "\u001b[32m[I 2022-08-26 16:19:47,621]\u001b[0m Trial 19 finished with value: 0.7824588808976449 and parameters: {'solver': 'liblinear', 'C': 0.15265035504437724}. Best is trial 17 with value: 0.7925778470843667.\u001b[0m\n"
     ]
    }
   ],
   "source": [
    "# Поиск оптимальных гиперпараметров\n",
    "sampler = optuna.samplers.TPESampler(seed=random_state)\n",
    "study_lr = optuna.create_study(\n",
    "    sampler=sampler, study_name='LogisticRegression', direction='maximize')\n",
    "study_lr.optimize(optuna_lr, n_trials=20)"
   ]
  },
  {
   "cell_type": "code",
   "execution_count": 36,
   "metadata": {},
   "outputs": [
    {
     "name": "stderr",
     "output_type": "stream",
     "text": [
      "c:\\Users\\Rui\\AppData\\Local\\Programs\\Python\\Python39\\lib\\site-packages\\sklearn\\linear_model\\_logistic.py:1153: UserWarning: 'n_jobs' > 1 does not have any effect when 'solver' is set to 'liblinear'. Got 'n_jobs' = 8.\n",
      "  warnings.warn(\n"
     ]
    }
   ],
   "source": [
    "# Модель с лучшими параметрами\n",
    "optuna_lr = linear_model.LogisticRegression(\n",
    "    **study_lr.best_params,  n_jobs=-1,\n",
    "    random_state=random_state, max_iter=50\n",
    ")\n",
    "optuna_lr.fit(X_train, y_train)\n",
    "y_train_pred = optuna_lr.predict(X_train)\n",
    "y_test_pred = optuna_lr.predict(X_test)"
   ]
  },
  {
   "cell_type": "code",
   "execution_count": 37,
   "metadata": {},
   "outputs": [
    {
     "name": "stdout",
     "output_type": "stream",
     "text": [
      "Наилучшие значения гиперпараметров: {'solver': 'liblinear', 'C': 0.029834922551910417}\n",
      "f1_score на обучающем наборе: 0.84\n",
      "f1_score на тестовом наборе: 0.78\n"
     ]
    }
   ],
   "source": [
    "print(f'Наилучшие значения гиперпараметров: {study_lr.best_params}')\n",
    "print('f1_score на обучающем наборе: {:.2f}'.format(metrics.f1_score(y_train, y_train_pred)))\n",
    "print('f1_score на тестовом наборе: {:.2f}'.format(metrics.f1_score(y_test, y_test_pred)))"
   ]
  },
  {
   "cell_type": "markdown",
   "metadata": {},
   "source": [
    "С помощью Optuna метрику f1_score на тестовом наборе улучшить не удалось."
   ]
  },
  {
   "cell_type": "markdown",
   "metadata": {},
   "source": [
    "### **Случайный лес**"
   ]
  },
  {
   "cell_type": "markdown",
   "metadata": {},
   "source": [
    "Проделаем аналогичные действия для RandomForestClassifier().\n",
    "Сначала посчитаем модель с параметрами по умолчанию и оценим метрику:"
   ]
  },
  {
   "cell_type": "code",
   "execution_count": 38,
   "metadata": {},
   "outputs": [
    {
     "name": "stdout",
     "output_type": "stream",
     "text": [
      "f1_score на обучающем наборе: 1.00\n",
      "f1_score на тестовом наборе: 0.80\n"
     ]
    }
   ],
   "source": [
    "#Создаем объект класса случайный лес\n",
    "rf = ensemble.RandomForestClassifier(random_state=42)\n",
    "\n",
    "#Обучаем модель\n",
    "rf.fit(X_train, y_train)\n",
    "#Выводим значения метрики \n",
    "y_train_pred = rf.predict(X_train)\n",
    "print('f1_score на обучающем наборе: {:.2f}'.format(metrics.f1_score(y_train, y_train_pred)))\n",
    "y_test_pred = rf.predict(X_test)\n",
    "print('f1_score на тестовом наборе: {:.2f}'.format(metrics.f1_score(y_test, y_test_pred)))"
   ]
  },
  {
   "cell_type": "markdown",
   "metadata": {},
   "source": [
    "### <center> **GridSearchCV**"
   ]
  },
  {
   "cell_type": "code",
   "execution_count": 39,
   "metadata": {},
   "outputs": [
    {
     "name": "stdout",
     "output_type": "stream",
     "text": [
      "CPU times: total: 4.67 s\n",
      "Wall time: 3min 50s\n",
      "f1_score на обучающем наборе: 0.93\n",
      "f1_score на тестовом наборе: 0.80\n",
      "Наилучшие значения гиперпараметров: {'max_depth': 30, 'min_samples_leaf': 6, 'n_estimators': 300}\n"
     ]
    }
   ],
   "source": [
    "# Сетка параметров\n",
    "param_grid = {'n_estimators': list(range(100, 400, 100)),\n",
    "              'min_samples_leaf': list(range(4, 10, 2)),\n",
    "              'max_depth': list(np.linspace(5, 50, 10, dtype=int))\n",
    "              }\n",
    "# Поиск по сетке параметров с кросс-валидацией             \n",
    "grid_search_forest = GridSearchCV(\n",
    "    estimator=ensemble.RandomForestClassifier(random_state=42), \n",
    "    param_grid=param_grid, \n",
    "    cv=5, \n",
    "    n_jobs = -1\n",
    ")  \n",
    "%time grid_search_forest.fit(X_train, y_train) \n",
    "y_train_pred = grid_search_forest.predict(X_train)\n",
    "print('f1_score на обучающем наборе: {:.2f}'.format(metrics.f1_score(y_train, y_train_pred)))\n",
    "y_test_pred = grid_search_forest.predict(X_test)\n",
    "print('f1_score на тестовом наборе: {:.2f}'.format(metrics.f1_score(y_test, y_test_pred)))\n",
    "print(\"Наилучшие значения гиперпараметров: {}\".format(grid_search_forest.best_params_))"
   ]
  },
  {
   "cell_type": "markdown",
   "metadata": {},
   "source": [
    "Значения метрики f1_score на тестовом наборе не изменились, комбинация внешних параметров лучше, чем заданы по умолчанию не найдена."
   ]
  },
  {
   "cell_type": "markdown",
   "metadata": {},
   "source": [
    "### <center> **RandomizedSearchCV**"
   ]
  },
  {
   "cell_type": "markdown",
   "metadata": {},
   "source": [
    "Проведем поиск оптимальных параметров среди тех же значений, что и для GridSearchCV."
   ]
  },
  {
   "cell_type": "code",
   "execution_count": 40,
   "metadata": {},
   "outputs": [
    {
     "name": "stdout",
     "output_type": "stream",
     "text": [
      "CPU times: total: 3.06 s\n",
      "Wall time: 48.2 s\n",
      "f1_score на обучающем наборе: 0.93\n",
      "f1_score на тестовом наборе: 0.80\n",
      "Наилучшие значения гиперпараметров: {'n_estimators': 300, 'min_samples_leaf': 6, 'max_depth': 40}\n"
     ]
    }
   ],
   "source": [
    "# Сетка параметров\n",
    "param_distributions = {'n_estimators': list(range(100, 400, 100)),\n",
    "              'min_samples_leaf': list(range(4, 10, 2)),\n",
    "              'max_depth': list(np.linspace(5, 50, 10, dtype=int))\n",
    "              }\n",
    "\n",
    "# Поиск по сетке параметров с кросс-валидацией            \n",
    "random_search_forest = RandomizedSearchCV(\n",
    "    estimator=ensemble.RandomForestClassifier(random_state=42), \n",
    "    param_distributions=param_distributions, \n",
    "    cv=5,\n",
    "    n_iter = 20, \n",
    "    n_jobs = -1\n",
    ")  \n",
    "%time random_search_forest.fit(X_train, y_train) \n",
    "y_train_pred = random_search_forest.predict(X_train)\n",
    "print('f1_score на обучающем наборе: {:.2f}'.format(metrics.f1_score(y_train, y_train_pred)))\n",
    "y_test_pred = random_search_forest.predict(X_test)\n",
    "print('f1_score на тестовом наборе: {:.2f}'.format(metrics.f1_score(y_test, y_test_pred)))\n",
    "print(\"Наилучшие значения гиперпараметров: {}\".format(random_search_forest.best_params_))"
   ]
  },
  {
   "cell_type": "markdown",
   "metadata": {},
   "source": [
    "Значения метрики f1_score на тестовом наборе не изменились, комбинация внешних параметров лучше, чем заданы по умолчанию не найдена."
   ]
  },
  {
   "cell_type": "markdown",
   "metadata": {},
   "source": [
    "### <center> **Hyperopt**"
   ]
  },
  {
   "cell_type": "markdown",
   "metadata": {},
   "source": [
    "Настроим оптимизацию гиперпараметров для алгоритма случайного леса."
   ]
  },
  {
   "cell_type": "code",
   "execution_count": 41,
   "metadata": {},
   "outputs": [],
   "source": [
    "# зададим пространство поиска гиперпараметров\n",
    "space={'n_estimators': hp.quniform('n_estimators', 100, 400, 10),\n",
    "       'max_depth' : hp.quniform('max_depth', 5, 50, 10),\n",
    "       'min_samples_leaf': hp.quniform('min_samples_leaf', 4, 10, 1)\n",
    "      }"
   ]
  },
  {
   "cell_type": "code",
   "execution_count": 42,
   "metadata": {},
   "outputs": [],
   "source": [
    "# зафиксируем random_state\n",
    "random_state = 42\n",
    "def hyperopt_rf(params, cv=5, X=X_train, y=y_train, random_state=random_state):\n",
    "    # функция получает комбинацию гиперпараметров в \"params\"\n",
    "    params = {'n_estimators': int(params['n_estimators']), \n",
    "              'max_depth': int(params['max_depth']), \n",
    "             'min_samples_leaf': int(params['min_samples_leaf'])\n",
    "              }\n",
    "  \n",
    "    # используем эту комбинацию для построения модели\n",
    "    model = ensemble.RandomForestClassifier(**params, \n",
    "                                            random_state=random_state,\n",
    "                                            n_jobs=-1\n",
    "                                            )\n",
    "\n",
    "    \n",
    "    # Обучаем модель с помощью кросс-валидации    \n",
    "    score = cross_val_score(model, X, y, cv=cv, scoring='f1', n_jobs=-1).mean()\n",
    "    # метрику необходимо минимизировать, поэтому ставим знак минус\n",
    "    return -score"
   ]
  },
  {
   "cell_type": "code",
   "execution_count": 43,
   "metadata": {},
   "outputs": [
    {
     "name": "stdout",
     "output_type": "stream",
     "text": [
      "CPU times: total: 0 ns\n",
      "Wall time: 0 ns\n",
      "100%|██████████| 20/20 [01:03<00:00,  3.20s/trial, best loss: -0.8124706654030968]\n",
      "Наилучшие значения гиперпараметров {'max_depth': 20.0, 'min_samples_leaf': 4.0, 'n_estimators': 110.0}\n"
     ]
    }
   ],
   "source": [
    "# начинаем подбор гиперпараметров\n",
    "%time \n",
    " \n",
    "trials = Trials() # используется для логирования результатов\n",
    "\n",
    "best=fmin(hyperopt_rf, # наша функция \n",
    "          space=space, # пространство гиперпараметров\n",
    "          algo=tpe.suggest, # алгоритм оптимизации, установлен по умолчанию, задавать необязательно\n",
    "          max_evals=20, # максимальное количество итераций\n",
    "          trials=trials, # логирование результатов\n",
    "          rstate=np.random.default_rng(random_state)# фиксируем для повторяемости результата\n",
    "          # rstate=np.random.default_rng(random_state)\n",
    "         )\n",
    "print(\"Наилучшие значения гиперпараметров {}\".format(best))"
   ]
  },
  {
   "cell_type": "code",
   "execution_count": 44,
   "metadata": {},
   "outputs": [
    {
     "name": "stdout",
     "output_type": "stream",
     "text": [
      "f1_score на обучающем наборе: 0.96\n",
      "f1_score на тестовом наборе: 0.80\n"
     ]
    }
   ],
   "source": [
    "# рассчитаем точность для тестовой выборки\n",
    "model = ensemble.RandomForestClassifier(\n",
    "    random_state=random_state, \n",
    "    n_estimators=int(best['n_estimators']),\n",
    "    max_depth=int(best['max_depth']),\n",
    "    min_samples_leaf=int(best['min_samples_leaf'])\n",
    ")\n",
    "model.fit(X_train, y_train)\n",
    "y_train_pred = model.predict(X_train)\n",
    "print('f1_score на обучающем наборе: {:.2f}'.format(metrics.f1_score(y_train, y_train_pred)))\n",
    "y_test_pred = model.predict(X_test)\n",
    "print('f1_score на тестовом наборе: {:.2f}'.format(metrics.f1_score(y_test, y_test_pred)))"
   ]
  },
  {
   "cell_type": "markdown",
   "metadata": {},
   "source": [
    "Значения метрики f1_score на тестовом наборе не изменились, комбинация внешних параметров лучше, чем заданы по умолчанию не найдена."
   ]
  },
  {
   "cell_type": "markdown",
   "metadata": {},
   "source": [
    "### <center> Optuna"
   ]
  },
  {
   "cell_type": "code",
   "execution_count": 45,
   "metadata": {},
   "outputs": [],
   "source": [
    "random_state = 42\n",
    "\n",
    "def optuna_rf(trial):\n",
    "  # задаем пространства поиска гиперпараметров\n",
    "    n_estimators = trial.suggest_int('n_estimators', 100, 400, 10)\n",
    "    max_depth = trial.suggest_int('max_depth', 5, 50, 10)\n",
    "    min_samples_leaf = trial.suggest_int('min_samples_leaf', 4, 10, 1)\n",
    "\n",
    "  # создаем модель\n",
    "    model = ensemble.RandomForestClassifier(n_estimators=n_estimators,\n",
    "                                          max_depth=max_depth,\n",
    "                                          min_samples_leaf=min_samples_leaf,\n",
    "                                          n_jobs=-1,\n",
    "                                          random_state=random_state)\n",
    "  # Обучаем модель с помощью кросс-валидации    \n",
    "    score = cross_val_score(\n",
    "        model, X_train, y_train, cv=5, scoring='f1', n_jobs=-1).mean()\n",
    "    return score"
   ]
  },
  {
   "cell_type": "code",
   "execution_count": 46,
   "metadata": {},
   "outputs": [
    {
     "name": "stderr",
     "output_type": "stream",
     "text": [
      "\u001b[32m[I 2022-08-26 16:25:34,197]\u001b[0m A new study created in memory with name: RandomForestClassifier\u001b[0m\n",
      "c:\\Users\\Rui\\AppData\\Local\\Programs\\Python\\Python39\\lib\\site-packages\\optuna\\distributions.py:560: UserWarning: The distribution is specified by [5, 50] and step=10, but the range is not divisible by `step`. It will be replaced by [5, 45].\n",
      "  warnings.warn(\n",
      "\u001b[32m[I 2022-08-26 16:25:37,004]\u001b[0m Trial 0 finished with value: 0.808715793761546 and parameters: {'n_estimators': 210, 'max_depth': 45, 'min_samples_leaf': 9}. Best is trial 0 with value: 0.808715793761546.\u001b[0m\n",
      "c:\\Users\\Rui\\AppData\\Local\\Programs\\Python\\Python39\\lib\\site-packages\\optuna\\distributions.py:560: UserWarning: The distribution is specified by [5, 50] and step=10, but the range is not divisible by `step`. It will be replaced by [5, 45].\n",
      "  warnings.warn(\n",
      "\u001b[32m[I 2022-08-26 16:25:39,430]\u001b[0m Trial 1 finished with value: 0.7661087259188779 and parameters: {'n_estimators': 280, 'max_depth': 5, 'min_samples_leaf': 5}. Best is trial 0 with value: 0.808715793761546.\u001b[0m\n",
      "c:\\Users\\Rui\\AppData\\Local\\Programs\\Python\\Python39\\lib\\site-packages\\optuna\\distributions.py:560: UserWarning: The distribution is specified by [5, 50] and step=10, but the range is not divisible by `step`. It will be replaced by [5, 45].\n",
      "  warnings.warn(\n",
      "\u001b[32m[I 2022-08-26 16:25:41,146]\u001b[0m Trial 2 finished with value: 0.8042089648798179 and parameters: {'n_estimators': 110, 'max_depth': 45, 'min_samples_leaf': 8}. Best is trial 0 with value: 0.808715793761546.\u001b[0m\n",
      "c:\\Users\\Rui\\AppData\\Local\\Programs\\Python\\Python39\\lib\\site-packages\\optuna\\distributions.py:560: UserWarning: The distribution is specified by [5, 50] and step=10, but the range is not divisible by `step`. It will be replaced by [5, 45].\n",
      "  warnings.warn(\n",
      "\u001b[32m[I 2022-08-26 16:25:43,727]\u001b[0m Trial 3 finished with value: 0.7665822027859597 and parameters: {'n_estimators': 310, 'max_depth': 5, 'min_samples_leaf': 10}. Best is trial 0 with value: 0.808715793761546.\u001b[0m\n",
      "c:\\Users\\Rui\\AppData\\Local\\Programs\\Python\\Python39\\lib\\site-packages\\optuna\\distributions.py:560: UserWarning: The distribution is specified by [5, 50] and step=10, but the range is not divisible by `step`. It will be replaced by [5, 45].\n",
      "  warnings.warn(\n",
      "\u001b[32m[I 2022-08-26 16:25:48,683]\u001b[0m Trial 4 finished with value: 0.8105875347794583 and parameters: {'n_estimators': 350, 'max_depth': 15, 'min_samples_leaf': 5}. Best is trial 4 with value: 0.8105875347794583.\u001b[0m\n",
      "c:\\Users\\Rui\\AppData\\Local\\Programs\\Python\\Python39\\lib\\site-packages\\optuna\\distributions.py:560: UserWarning: The distribution is specified by [5, 50] and step=10, but the range is not divisible by `step`. It will be replaced by [5, 45].\n",
      "  warnings.warn(\n",
      "\u001b[32m[I 2022-08-26 16:25:51,071]\u001b[0m Trial 5 finished with value: 0.8064795592672265 and parameters: {'n_estimators': 150, 'max_depth': 15, 'min_samples_leaf': 7}. Best is trial 4 with value: 0.8105875347794583.\u001b[0m\n",
      "c:\\Users\\Rui\\AppData\\Local\\Programs\\Python\\Python39\\lib\\site-packages\\optuna\\distributions.py:560: UserWarning: The distribution is specified by [5, 50] and step=10, but the range is not divisible by `step`. It will be replaced by [5, 45].\n",
      "  warnings.warn(\n",
      "\u001b[32m[I 2022-08-26 16:25:54,299]\u001b[0m Trial 6 finished with value: 0.8076301172996345 and parameters: {'n_estimators': 230, 'max_depth': 15, 'min_samples_leaf': 8}. Best is trial 4 with value: 0.8105875347794583.\u001b[0m\n",
      "c:\\Users\\Rui\\AppData\\Local\\Programs\\Python\\Python39\\lib\\site-packages\\optuna\\distributions.py:560: UserWarning: The distribution is specified by [5, 50] and step=10, but the range is not divisible by `step`. It will be replaced by [5, 45].\n",
      "  warnings.warn(\n",
      "\u001b[32m[I 2022-08-26 16:25:56,613]\u001b[0m Trial 7 finished with value: 0.8108034426229004 and parameters: {'n_estimators': 140, 'max_depth': 15, 'min_samples_leaf': 6}. Best is trial 7 with value: 0.8108034426229004.\u001b[0m\n",
      "c:\\Users\\Rui\\AppData\\Local\\Programs\\Python\\Python39\\lib\\site-packages\\optuna\\distributions.py:560: UserWarning: The distribution is specified by [5, 50] and step=10, but the range is not divisible by `step`. It will be replaced by [5, 45].\n",
      "  warnings.warn(\n",
      "\u001b[32m[I 2022-08-26 16:26:00,337]\u001b[0m Trial 8 finished with value: 0.8107918064263029 and parameters: {'n_estimators': 240, 'max_depth': 35, 'min_samples_leaf': 5}. Best is trial 7 with value: 0.8108034426229004.\u001b[0m\n",
      "c:\\Users\\Rui\\AppData\\Local\\Programs\\Python\\Python39\\lib\\site-packages\\optuna\\distributions.py:560: UserWarning: The distribution is specified by [5, 50] and step=10, but the range is not divisible by `step`. It will be replaced by [5, 45].\n",
      "  warnings.warn(\n",
      "\u001b[32m[I 2022-08-26 16:26:04,311]\u001b[0m Trial 9 finished with value: 0.8128067740254483 and parameters: {'n_estimators': 250, 'max_depth': 25, 'min_samples_leaf': 4}. Best is trial 9 with value: 0.8128067740254483.\u001b[0m\n",
      "c:\\Users\\Rui\\AppData\\Local\\Programs\\Python\\Python39\\lib\\site-packages\\optuna\\distributions.py:560: UserWarning: The distribution is specified by [5, 50] and step=10, but the range is not divisible by `step`. It will be replaced by [5, 45].\n",
      "  warnings.warn(\n",
      "\u001b[32m[I 2022-08-26 16:26:10,150]\u001b[0m Trial 10 finished with value: 0.8114580340888675 and parameters: {'n_estimators': 390, 'max_depth': 35, 'min_samples_leaf': 4}. Best is trial 9 with value: 0.8128067740254483.\u001b[0m\n",
      "c:\\Users\\Rui\\AppData\\Local\\Programs\\Python\\Python39\\lib\\site-packages\\optuna\\distributions.py:560: UserWarning: The distribution is specified by [5, 50] and step=10, but the range is not divisible by `step`. It will be replaced by [5, 45].\n",
      "  warnings.warn(\n",
      "\u001b[32m[I 2022-08-26 16:26:15,608]\u001b[0m Trial 11 finished with value: 0.8117136027108843 and parameters: {'n_estimators': 380, 'max_depth': 35, 'min_samples_leaf': 4}. Best is trial 9 with value: 0.8128067740254483.\u001b[0m\n",
      "c:\\Users\\Rui\\AppData\\Local\\Programs\\Python\\Python39\\lib\\site-packages\\optuna\\distributions.py:560: UserWarning: The distribution is specified by [5, 50] and step=10, but the range is not divisible by `step`. It will be replaced by [5, 45].\n",
      "  warnings.warn(\n",
      "\u001b[32m[I 2022-08-26 16:26:21,385]\u001b[0m Trial 12 finished with value: 0.8108799537972627 and parameters: {'n_estimators': 400, 'max_depth': 35, 'min_samples_leaf': 4}. Best is trial 9 with value: 0.8128067740254483.\u001b[0m\n",
      "c:\\Users\\Rui\\AppData\\Local\\Programs\\Python\\Python39\\lib\\site-packages\\optuna\\distributions.py:560: UserWarning: The distribution is specified by [5, 50] and step=10, but the range is not divisible by `step`. It will be replaced by [5, 45].\n",
      "  warnings.warn(\n",
      "\u001b[32m[I 2022-08-26 16:26:26,016]\u001b[0m Trial 13 finished with value: 0.8120837820219862 and parameters: {'n_estimators': 320, 'max_depth': 25, 'min_samples_leaf': 4}. Best is trial 9 with value: 0.8128067740254483.\u001b[0m\n",
      "c:\\Users\\Rui\\AppData\\Local\\Programs\\Python\\Python39\\lib\\site-packages\\optuna\\distributions.py:560: UserWarning: The distribution is specified by [5, 50] and step=10, but the range is not divisible by `step`. It will be replaced by [5, 45].\n",
      "  warnings.warn(\n",
      "\u001b[32m[I 2022-08-26 16:26:30,268]\u001b[0m Trial 14 finished with value: 0.8123469047828469 and parameters: {'n_estimators': 310, 'max_depth': 25, 'min_samples_leaf': 6}. Best is trial 9 with value: 0.8128067740254483.\u001b[0m\n",
      "c:\\Users\\Rui\\AppData\\Local\\Programs\\Python\\Python39\\lib\\site-packages\\optuna\\distributions.py:560: UserWarning: The distribution is specified by [5, 50] and step=10, but the range is not divisible by `step`. It will be replaced by [5, 45].\n",
      "  warnings.warn(\n",
      "\u001b[32m[I 2022-08-26 16:26:33,134]\u001b[0m Trial 15 finished with value: 0.8125103706538708 and parameters: {'n_estimators': 190, 'max_depth': 25, 'min_samples_leaf': 6}. Best is trial 9 with value: 0.8128067740254483.\u001b[0m\n",
      "c:\\Users\\Rui\\AppData\\Local\\Programs\\Python\\Python39\\lib\\site-packages\\optuna\\distributions.py:560: UserWarning: The distribution is specified by [5, 50] and step=10, but the range is not divisible by `step`. It will be replaced by [5, 45].\n",
      "  warnings.warn(\n",
      "\u001b[32m[I 2022-08-26 16:26:35,999]\u001b[0m Trial 16 finished with value: 0.8125103706538708 and parameters: {'n_estimators': 190, 'max_depth': 25, 'min_samples_leaf': 6}. Best is trial 9 with value: 0.8128067740254483.\u001b[0m\n",
      "c:\\Users\\Rui\\AppData\\Local\\Programs\\Python\\Python39\\lib\\site-packages\\optuna\\distributions.py:560: UserWarning: The distribution is specified by [5, 50] and step=10, but the range is not divisible by `step`. It will be replaced by [5, 45].\n",
      "  warnings.warn(\n",
      "\u001b[32m[I 2022-08-26 16:26:38,483]\u001b[0m Trial 17 finished with value: 0.8054853371361057 and parameters: {'n_estimators': 170, 'max_depth': 25, 'min_samples_leaf': 7}. Best is trial 9 with value: 0.8128067740254483.\u001b[0m\n",
      "c:\\Users\\Rui\\AppData\\Local\\Programs\\Python\\Python39\\lib\\site-packages\\optuna\\distributions.py:560: UserWarning: The distribution is specified by [5, 50] and step=10, but the range is not divisible by `step`. It will be replaced by [5, 45].\n",
      "  warnings.warn(\n",
      "\u001b[32m[I 2022-08-26 16:26:42,547]\u001b[0m Trial 18 finished with value: 0.8118792777526114 and parameters: {'n_estimators': 270, 'max_depth': 15, 'min_samples_leaf': 5}. Best is trial 9 with value: 0.8128067740254483.\u001b[0m\n",
      "c:\\Users\\Rui\\AppData\\Local\\Programs\\Python\\Python39\\lib\\site-packages\\optuna\\distributions.py:560: UserWarning: The distribution is specified by [5, 50] and step=10, but the range is not divisible by `step`. It will be replaced by [5, 45].\n",
      "  warnings.warn(\n",
      "\u001b[32m[I 2022-08-26 16:26:45,497]\u001b[0m Trial 19 finished with value: 0.8067635919619219 and parameters: {'n_estimators': 200, 'max_depth': 35, 'min_samples_leaf': 7}. Best is trial 9 with value: 0.8128067740254483.\u001b[0m\n"
     ]
    }
   ],
   "source": [
    "# Поиск оптимальных гиперпараметров\n",
    "sampler = optuna.samplers.TPESampler(seed=random_state)\n",
    "study_rf = optuna.create_study(\n",
    "    sampler=sampler, study_name='RandomForestClassifier', direction='maximize')\n",
    "study_rf.optimize(optuna_rf, n_trials=20)"
   ]
  },
  {
   "cell_type": "code",
   "execution_count": 47,
   "metadata": {},
   "outputs": [],
   "source": [
    "# Модель с лучшими параметрами  \n",
    "optuna_rf = ensemble.RandomForestClassifier(\n",
    "    **study_rf.best_params, class_weight='balanced', n_jobs=-1,\n",
    "    random_state=random_state\n",
    ")\n",
    "optuna_rf.fit(X_train, y_train)\n",
    "y_train_pred = optuna_rf.predict(X_train)\n",
    "y_test_pred = optuna_rf.predict(X_test)"
   ]
  },
  {
   "cell_type": "code",
   "execution_count": 48,
   "metadata": {},
   "outputs": [
    {
     "name": "stdout",
     "output_type": "stream",
     "text": [
      "Наилучшие значения гиперпараметров: {'n_estimators': 250, 'max_depth': 25, 'min_samples_leaf': 4}\n",
      "f1_score на обучающем наборе: 0.96\n",
      "f1_score на тестовом наборе: 0.80\n"
     ]
    }
   ],
   "source": [
    "print(f'Наилучшие значения гиперпараметров: {study_rf.best_params}')\n",
    "print('f1_score на обучающем наборе: {:.2f}'.format(metrics.f1_score(y_train, y_train_pred)))\n",
    "print('f1_score на тестовом наборе: {:.2f}'.format(metrics.f1_score(y_test, y_test_pred)))"
   ]
  },
  {
   "cell_type": "markdown",
   "metadata": {},
   "source": [
    "Значения метрики f1_score на тестовом наборе не изменились, комбинация внешних параметров лучше, чем заданы по умолчанию не найдена."
   ]
  }
 ],
 "metadata": {
  "kernelspec": {
   "display_name": "Python 3.9.12 64-bit",
   "language": "python",
   "name": "python3"
  },
  "language_info": {
   "codemirror_mode": {
    "name": "ipython",
    "version": 3
   },
   "file_extension": ".py",
   "mimetype": "text/x-python",
   "name": "python",
   "nbconvert_exporter": "python",
   "pygments_lexer": "ipython3",
   "version": "3.9.12"
  },
  "orig_nbformat": 4,
  "vscode": {
   "interpreter": {
    "hash": "93e5499867a482d1f69126f65754e04e21327fbe16c28c259dff18a59fe0a8c0"
   }
  }
 },
 "nbformat": 4,
 "nbformat_minor": 2
}
